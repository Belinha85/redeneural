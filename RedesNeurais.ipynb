{
  "nbformat": 4,
  "nbformat_minor": 0,
  "metadata": {
    "colab": {
      "provenance": [],
      "authorship_tag": "ABX9TyNS2LlZOs6BgUKSN9Blqiun",
      "include_colab_link": true
    },
    "kernelspec": {
      "name": "python3",
      "display_name": "Python 3"
    },
    "language_info": {
      "name": "python"
    }
  },
  "cells": [
    {
      "cell_type": "markdown",
      "metadata": {
        "id": "view-in-github",
        "colab_type": "text"
      },
      "source": [
        "<a href=\"https://colab.research.google.com/github/Belinha85/redeneural/blob/main/RedesNeurais.ipynb\" target=\"_parent\"><img src=\"https://colab.research.google.com/assets/colab-badge.svg\" alt=\"Open In Colab\"/></a>"
      ]
    },
    {
      "cell_type": "code",
      "execution_count": 1,
      "metadata": {
        "id": "IDT8I-dX8VkI"
      },
      "outputs": [],
      "source": [
        "import pandas as pd \n",
        "import numpy as np \n",
        "import matplotlib.pyplot as plt\n",
        "import seaborn as sns\n"
      ]
    },
    {
      "cell_type": "markdown",
      "source": [
        "Desvio medio\n"
      ],
      "metadata": {
        "id": "Pm-oIcznE9RN"
      }
    },
    {
      "cell_type": "code",
      "source": [
        "lista = [10,20,30,40,50]\n",
        "\n",
        "dados = pd.Series(lista)\n",
        "\n",
        "desvio_medio = np.abs(dados - np.mean(dados)).sum() / len(dados)\n",
        "\n",
        "dados - np.mean(dados)"
      ],
      "metadata": {
        "colab": {
          "base_uri": "https://localhost:8080/"
        },
        "id": "WSTQxO799-p2",
        "outputId": "3601c46c-0505-432c-b44f-f82f318610bb"
      },
      "execution_count": 4,
      "outputs": [
        {
          "output_type": "execute_result",
          "data": {
            "text/plain": [
              "0   -20.0\n",
              "1   -10.0\n",
              "2     0.0\n",
              "3    10.0\n",
              "4    20.0\n",
              "dtype: float64"
            ]
          },
          "metadata": {},
          "execution_count": 4
        }
      ]
    },
    {
      "cell_type": "code",
      "source": [
        "plt.plot"
      ],
      "metadata": {
        "colab": {
          "base_uri": "https://localhost:8080/"
        },
        "id": "Wz4mk91EFALd",
        "outputId": "1655f4b7-0652-42f5-e144-c274d257a001"
      },
      "execution_count": 23,
      "outputs": [
        {
          "output_type": "execute_result",
          "data": {
            "text/plain": [
              "<function matplotlib.pyplot.plot(*args, scalex=True, scaley=True, data=None, **kwargs)>"
            ]
          },
          "metadata": {},
          "execution_count": 23
        }
      ]
    },
    {
      "cell_type": "code",
      "source": [
        "np.dot(dados,100)"
      ],
      "metadata": {
        "colab": {
          "base_uri": "https://localhost:8080/"
        },
        "id": "aUCZ16NY-V--",
        "outputId": "1252d23f-7227-473f-b805-d844244244de"
      },
      "execution_count": 5,
      "outputs": [
        {
          "output_type": "execute_result",
          "data": {
            "text/plain": [
              "array([1000, 2000, 3000, 4000, 5000])"
            ]
          },
          "metadata": {},
          "execution_count": 5
        }
      ]
    },
    {
      "cell_type": "code",
      "source": [
        "np.dot(dados,lista)"
      ],
      "metadata": {
        "colab": {
          "base_uri": "https://localhost:8080/"
        },
        "id": "zB0jScFB-o9s",
        "outputId": "4e4f5798-293b-4da8-95ab-7014e9fc1b77"
      },
      "execution_count": 6,
      "outputs": [
        {
          "output_type": "execute_result",
          "data": {
            "text/plain": [
              "5500"
            ]
          },
          "metadata": {},
          "execution_count": 6
        }
      ]
    },
    {
      "cell_type": "code",
      "source": [
        "lista = [10,20,30,40,50]\n",
        "\n",
        "dados = pd.Series(lista)\n",
        "\n",
        "desvio_medio = np.abs(dados - np.mean(dados)).sum() / len(dados)\n",
        "\n",
        "np.abs(dados - np.mean(dados))"
      ],
      "metadata": {
        "colab": {
          "base_uri": "https://localhost:8080/"
        },
        "id": "QvEDtJMR-xDM",
        "outputId": "e31d6da4-00a6-413c-a087-22f612093aa5"
      },
      "execution_count": 8,
      "outputs": [
        {
          "output_type": "execute_result",
          "data": {
            "text/plain": [
              "0    20.0\n",
              "1    10.0\n",
              "2     0.0\n",
              "3    10.0\n",
              "4    20.0\n",
              "dtype: float64"
            ]
          },
          "metadata": {},
          "execution_count": 8
        }
      ]
    },
    {
      "cell_type": "code",
      "source": [
        "np.mean(dados)"
      ],
      "metadata": {
        "colab": {
          "base_uri": "https://localhost:8080/"
        },
        "id": "pz-J8UVD_5CG",
        "outputId": "c0ed9692-539d-4b31-d6eb-73183c8dcd92"
      },
      "execution_count": 9,
      "outputs": [
        {
          "output_type": "execute_result",
          "data": {
            "text/plain": [
              "30.0"
            ]
          },
          "metadata": {},
          "execution_count": 9
        }
      ]
    },
    {
      "cell_type": "markdown",
      "source": [
        "Desvio Médio"
      ],
      "metadata": {
        "id": "OlSxovbQCiwx"
      }
    },
    {
      "cell_type": "code",
      "source": [
        "media = np.mean(lista)\n",
        "print(media)"
      ],
      "metadata": {
        "colab": {
          "base_uri": "https://localhost:8080/"
        },
        "id": "qVFYIIeSArko",
        "outputId": "405ea870-29cf-4e2c-c013-6ccaa4801ce1"
      },
      "execution_count": 11,
      "outputs": [
        {
          "output_type": "stream",
          "name": "stdout",
          "text": [
            "30.0\n"
          ]
        }
      ]
    },
    {
      "cell_type": "code",
      "source": [
        "np.square(dados)"
      ],
      "metadata": {
        "colab": {
          "base_uri": "https://localhost:8080/"
        },
        "id": "q858fbX7BK5w",
        "outputId": "474f3201-b4be-4c2a-8d61-cc4ee0e94eae"
      },
      "execution_count": 12,
      "outputs": [
        {
          "output_type": "execute_result",
          "data": {
            "text/plain": [
              "0     100\n",
              "1     400\n",
              "2     900\n",
              "3    1600\n",
              "4    2500\n",
              "dtype: int64"
            ]
          },
          "metadata": {},
          "execution_count": 12
        }
      ]
    },
    {
      "cell_type": "code",
      "source": [
        "variancia = np.var(lista)\n",
        "\n",
        "print(variancia)"
      ],
      "metadata": {
        "colab": {
          "base_uri": "https://localhost:8080/"
        },
        "id": "mzOedSCaBaUW",
        "outputId": "eed22923-df85-4442-eab2-9e7da444c566"
      },
      "execution_count": 13,
      "outputs": [
        {
          "output_type": "stream",
          "name": "stdout",
          "text": [
            "200.0\n"
          ]
        }
      ]
    },
    {
      "cell_type": "code",
      "source": [
        "dados.mean()"
      ],
      "metadata": {
        "colab": {
          "base_uri": "https://localhost:8080/"
        },
        "id": "gbmdbKwnBukW",
        "outputId": "c3aaef5f-cb0f-4cac-e667-aa8f3d1c1178"
      },
      "execution_count": 14,
      "outputs": [
        {
          "output_type": "execute_result",
          "data": {
            "text/plain": [
              "30.0"
            ]
          },
          "metadata": {},
          "execution_count": 14
        }
      ]
    },
    {
      "cell_type": "markdown",
      "source": [
        "Variância"
      ],
      "metadata": {
        "id": "P1aws6fnCddp"
      }
    },
    {
      "cell_type": "code",
      "source": [
        "distancias_para_media = dados - np.mean(dados)\n",
        "quadrados_das_distancias_para_media = np.square(distancias_para_media)\n",
        "variancia = sum(quadrados_das_distancias_para_media) / len(dados)\n",
        "\n",
        "#quadrados_para_media\n",
        "#quadrados_das_distancias_para_media\n",
        "#variancia\n",
        "\n",
        "np.var(dados)\n",
        "\n",
        "\n",
        "\n"
      ],
      "metadata": {
        "colab": {
          "base_uri": "https://localhost:8080/"
        },
        "id": "-QmYmsZiCHTN",
        "outputId": "f1bdb48e-e812-4196-d852-b900e0477005"
      },
      "execution_count": 20,
      "outputs": [
        {
          "output_type": "execute_result",
          "data": {
            "text/plain": [
              "200.0"
            ]
          },
          "metadata": {},
          "execution_count": 20
        }
      ]
    },
    {
      "cell_type": "code",
      "source": [
        "plt.plot(dados)"
      ],
      "metadata": {
        "colab": {
          "base_uri": "https://localhost:8080/",
          "height": 447
        },
        "id": "XCoPj2oFJuLT",
        "outputId": "d97d0c03-3533-4a28-a3fb-df6762f6326f"
      },
      "execution_count": 27,
      "outputs": [
        {
          "output_type": "execute_result",
          "data": {
            "text/plain": [
              "[<matplotlib.lines.Line2D at 0x7f74a21f0e50>]"
            ]
          },
          "metadata": {},
          "execution_count": 27
        },
        {
          "output_type": "display_data",
          "data": {
            "text/plain": [
              "<Figure size 640x480 with 1 Axes>"
            ],
            "image/png": "[encoded data removed]"
          },
          "metadata": {}
        }
      ]
    },
    {
      "cell_type": "code",
      "source": [
        "dados = pd.Series([10,20,30,30,30,40,55])"
      ],
      "metadata": {
        "id": "8nNkuE-zJ8GZ"
      },
      "execution_count": 28,
      "outputs": []
    },
    {
      "cell_type": "markdown",
      "source": [
        "Assimetria"
      ],
      "metadata": {
        "id": "o3EZk2vRKMw2"
      }
    },
    {
      "cell_type": "code",
      "source": [
        "dados.skew()"
      ],
      "metadata": {
        "colab": {
          "base_uri": "https://localhost:8080/"
        },
        "id": "L8ncs5TxKEco",
        "outputId": "1c41d7ca-5856-432d-d54e-00c0aeff582b"
      },
      "execution_count": 29,
      "outputs": [
        {
          "output_type": "execute_result",
          "data": {
            "text/plain": [
              "0.40208186421842296"
            ]
          },
          "metadata": {},
          "execution_count": 29
        }
      ]
    },
    {
      "cell_type": "code",
      "source": [
        "sns.histplot(dados, kde=True)"
      ],
      "metadata": {
        "colab": {
          "base_uri": "https://localhost:8080/",
          "height": 447
        },
        "id": "p5yqcjYsK5rf",
        "outputId": "00401a2a-8213-484b-aa19-fe5afc3d5cbd"
      },
      "execution_count": 30,
      "outputs": [
        {
          "output_type": "execute_result",
          "data": {
            "text/plain": [
              "<Axes: ylabel='Count'>"
            ]
          },
          "metadata": {},
          "execution_count": 30
        },
        {
          "output_type": "display_data",
          "data": {
            "text/plain": [
              "<Figure size 640x480 with 1 Axes>"
            ],
            "image/png": "[encoded data removed]"
          },
          "metadata": {}
        }
      ]
    },
    {
      "cell_type": "code",
      "source": [
        "sns.histplot(dados, kde=True, bins=5)"
      ],
      "metadata": {
        "colab": {
          "base_uri": "https://localhost:8080/",
          "height": 447
        },
        "id": "0UHYII7JLLtO",
        "outputId": "b6fa90e4-71a9-4f56-cad9-5053ac68f17e"
      },
      "execution_count": 31,
      "outputs": [
        {
          "output_type": "execute_result",
          "data": {
            "text/plain": [
              "<Axes: ylabel='Count'>"
            ]
          },
          "metadata": {},
          "execution_count": 31
        },
        {
          "output_type": "display_data",
          "data": {
            "text/plain": [
              "<Figure size 640x480 with 1 Axes>"
            ],
            "image/png": "[encoded data removed]"
          },
          "metadata": {}
        }
      ]
    },
    {
      "cell_type": "code",
      "source": [
        "plt.plot([10,10,10,10])"
      ],
      "metadata": {
        "colab": {
          "base_uri": "https://localhost:8080/",
          "height": 447
        },
        "id": "jYxCuyLUEdch",
        "outputId": "30990701-7d6b-4bf5-f911-5cb624c17b1c"
      },
      "execution_count": 21,
      "outputs": [
        {
          "output_type": "execute_result",
          "data": {
            "text/plain": [
              "[<matplotlib.lines.Line2D at 0x7f74a25b48e0>]"
            ]
          },
          "metadata": {},
          "execution_count": 21
        },
        {
          "output_type": "display_data",
          "data": {
            "text/plain": [
              "<Figure size 640x480 with 1 Axes>"
            ],
            "image/png": "[encoded data removed]"
          },
          "metadata": {}
        }
      ]
    },
    {
      "cell_type": "code",
      "source": [
        "np.std(dados)"
      ],
      "metadata": {
        "colab": {
          "base_uri": "https://localhost:8080/"
        },
        "id": "m9aCm-66ExPV",
        "outputId": "20a46a6b-791f-4ad7-d266-18d194b41563"
      },
      "execution_count": 25,
      "outputs": [
        {
          "output_type": "execute_result",
          "data": {
            "text/plain": [
              "14.142135623730951"
            ]
          },
          "metadata": {},
          "execution_count": 25
        }
      ]
    },
    {
      "cell_type": "markdown",
      "source": [],
      "metadata": {
        "id": "guLZGbZpf48S"
      }
    },
    {
      "cell_type": "code",
      "source": [
        "dados= pd.Series([10,20,30,30,30,40,50])"
      ],
      "metadata": {
        "id": "epast4GhHMKo"
      },
      "execution_count": 26,
      "outputs": []
    },
    {
      "cell_type": "markdown",
      "source": [
        "### Questão 1: \n",
        "Considere o conjunto de dados a seguir e calcule a amplitude total desses dados.:\n",
        "> dados = [2, 3, 4, 5, 6, 7, 8, 9, 10]"
      ],
      "metadata": {
        "id": "1TGgDhrTf6VZ"
      }
    },
    {
      "cell_type": "code",
      "source": [
        "import numpy as np\n",
        "import pandas as pd\n",
        "\n",
        "dados = [2,3,4,5,6,7,8,9,10]\n",
        "dados = pd.Series(sorted(dados))\n",
        "amplitude = np.max(dados) - np.min(dados)\n",
        "\n",
        "print(f'A amplitude total dos dados é: {amplitude: .2f}')"
      ],
      "metadata": {
        "colab": {
          "base_uri": "https://localhost:8080/"
        },
        "id": "8syXddSEXpyg",
        "outputId": "6e5686d4-886e-4f4d-81ce-cffb24cee7e8"
      },
      "execution_count": 32,
      "outputs": [
        {
          "output_type": "stream",
          "name": "stdout",
          "text": [
            "A amplitude total dos dados é:  8.00\n"
          ]
        }
      ]
    },
    {
      "cell_type": "markdown",
      "source": [
        "### Questão 2: \n",
        "Dado um conjunto de dados com a seguinte distribuição: [1, 2, 3, 4, 5, 6, 7, 8, 9, 10], calcule a mediana, a amplitude total, a variância e o desvio padrão.\n"
      ],
      "metadata": {
        "id": "HPcsT-9Tf3FJ"
      }
    },
    {
      "cell_type": "code",
      "source": [
        "dados= [1,2,3,4,5,6,7,8,9,10]\n",
        "mediana = np.median(dados)\n",
        "amplitude_total = np.max(dados) - np.min(dados)\n",
        "variancia = np.var(dados)\n",
        "desvio_padrao = np.std(dados)\n",
        "\n",
        "print(f'A mediana é : {mediana}\\nA apmplitude é: {amplitude_total}\\n\\\n",
        "A variancia é: {variancia}\\nO desvio padrão é: {desvio_padrao:.2f}')"
      ],
      "metadata": {
        "colab": {
          "base_uri": "https://localhost:8080/"
        },
        "id": "aUQKFvTlc3GD",
        "outputId": "bffed0a0-0339-4a9f-b430-58dd898b5c52"
      },
      "execution_count": 33,
      "outputs": [
        {
          "output_type": "stream",
          "name": "stdout",
          "text": [
            "A mediana é : 5.5\n",
            "A apmplitude é: 9\n",
            "A variancia é: 8.25\n",
            "O desvio padrão é: 2.87\n"
          ]
        }
      ]
    },
    {
      "cell_type": "markdown",
      "source": [
        "### Questão 3: \n",
        "Crie um histograma a partir do seguinte conjunto de dados, com 10 intervalos: [1, 1, 2, 2, 2, 3, 3, 4, 4, 5, 5, 5, 5, 6, 6, 7, 7, 7, 8, 8]."
      ],
      "metadata": {
        "id": "RjRafjzif05p"
      }
    },
    {
      "cell_type": "code",
      "source": [
        "import matplotlib.pyplot as plt\n",
        "dados = [1,1,2,2,2, 3,3, 4,4, 5,5, 6,6, 7,7, 8, 9, 10]\n",
        "\n",
        "plt.hist(dados)\n",
        "plt.show()\n"
      ],
      "metadata": {
        "colab": {
          "base_uri": "https://localhost:8080/",
          "height": 430
        },
        "id": "jHt1JB0UeSLK",
        "outputId": "88f486ab-6f28-43de-abfb-03cb189188fa"
      },
      "execution_count": 34,
      "outputs": [
        {
          "output_type": "display_data",
          "data": {
            "text/plain": [
              "<Figure size 640x480 with 1 Axes>"
            ],
            "image/png": "[encoded data removed]"
          },
          "metadata": {}
        }
      ]
    },
    {
      "cell_type": "markdown",
      "source": [
        "### Questão 4: \n",
        "Dado o conjunto de dados [2, 3, 5, 7, 11, 13], calcule o valor do terceiro quartil."
      ],
      "metadata": {
        "id": "DkpgecdVf9yp"
      }
    },
    {
      "cell_type": "code",
      "source": [
        "meus_dados = [2,3,5,7,11,13]\n",
        "terceiro_quartil = np.percentile(meus_dados, q=75)\n",
        "terceiro_quartil"
      ],
      "metadata": {
        "colab": {
          "base_uri": "https://localhost:8080/"
        },
        "id": "DLK8w0LsfJJM",
        "outputId": "75393a33-16ec-4d5d-862f-4faf9b68571a"
      },
      "execution_count": 36,
      "outputs": [
        {
          "output_type": "execute_result",
          "data": {
            "text/plain": [
              "10.0"
            ]
          },
          "metadata": {},
          "execution_count": 36
        }
      ]
    },
    {
      "cell_type": "markdown",
      "source": [
        "### Questão 5: \n",
        "Dado o conjunto de dados [10, 20, 30, 40, 50], crie um box plot e determine se ele apresenta assimetria."
      ],
      "metadata": {
        "id": "BMo8tkjUgf-5"
      }
    },
    {
      "cell_type": "code",
      "source": [
        "import pandas as pd\n",
        "import seaborn as sns\n",
        "\n",
        "data = [10, 20, 30, 40, 50]\n",
        "df = pd.DataFrame(data, columns=['Valores'])\n",
        "\n",
        "sns.boxplot(x=df['Valores'])\n",
        "\n"
      ],
      "metadata": {
        "colab": {
          "base_uri": "https://localhost:8080/",
          "height": 466
        },
        "id": "PcQ1CoL0gfMR",
        "outputId": "ced58961-619d-43c4-9b07-b8566fd469b1"
      },
      "execution_count": 38,
      "outputs": [
        {
          "output_type": "execute_result",
          "data": {
            "text/plain": [
              "<Axes: xlabel='Valores'>"
            ]
          },
          "metadata": {},
          "execution_count": 38
        },
        {
          "output_type": "display_data",
          "data": {
            "text/plain": [
              "<Figure size 640x480 with 1 Axes>"
            ],
            "image/png": "[encoded data removed]"
          },
          "metadata": {}
        }
      ]
    },
    {
      "cell_type": "code",
      "source": [
        "dados = [10,20,30,40,50]\n",
        "dados = pd.Series(dados)\n",
        "\n",
        "assimetria = dados.skew()\n",
        "\n",
        "fig, ax = plt.subplots()\n",
        "ax.boxplot(dados)\n",
        "\n",
        "if assimetria > 0:\n",
        "    print('Assimetria é positiva')\n",
        "elif assimetria < 0:\n",
        "    print('Assimetria é negativa')\n",
        "else:\n",
        "    print('Este conjunto é simetrico')\n",
        "\n",
        "\n",
        "plt.show()\n",
        "\n"
      ],
      "metadata": {
        "colab": {
          "base_uri": "https://localhost:8080/",
          "height": 447
        },
        "id": "Wv42YpGaiQKl",
        "outputId": "5284c3e5-b946-4052-bb72-15fc6bd97a3a"
      },
      "execution_count": 40,
      "outputs": [
        {
          "output_type": "stream",
          "name": "stdout",
          "text": [
            "Este conjunto é simetrico\n"
          ]
        },
        {
          "output_type": "display_data",
          "data": {
            "text/plain": [
              "<Figure size 640x480 with 1 Axes>"
            ],
            "image/png": "[encoded data removed]"
          },
          "metadata": {}
        }
      ]
    },
    {
      "cell_type": "markdown",
      "source": [
        "### Questão 6: \n",
        "Um estudo sobre o tempo de resposta de um sistema de atendimento ao cliente registrou os seguintes tempos (em minutos): 5, 7, 8, 10, 10, 12, 12, 15, 20. Calcule a amplitude total, a média, a variância e o desvio padrão."
      ],
      "metadata": {
        "id": "lG4SCk0Rh_OE"
      }
    },
    {
      "cell_type": "markdown",
      "source": [],
      "metadata": {
        "id": "yBL-bXMnh7er"
      }
    },
    {
      "cell_type": "code",
      "source": [
        "media = np.mean(dados)\n",
        "amplitude_total = np.max(dados) - np.min(dados)\n",
        "variancia = np.var(dados)\n",
        "desvio_padrao = np.std(dados)\n",
        "\n",
        "print(f'A mediana é: {media}\\nA amplitude é: {amplitude_total}\\n\\\n",
        "A variância é: {variancia}\\nO desvio padrão é: {desvio_padrao:.2f}')\n"
      ],
      "metadata": {
        "colab": {
          "base_uri": "https://localhost:8080/"
        },
        "id": "DAkRGuQljRSq",
        "outputId": "f8a9d518-4e57-4a77-b69e-3ff29c722c06"
      },
      "execution_count": 42,
      "outputs": [
        {
          "output_type": "stream",
          "name": "stdout",
          "text": [
            "A mediana é: 30.0\n",
            "A amplitude é: 40\n",
            "A variância é: 200.0\n",
            "O desvio padrão é: 14.14\n"
          ]
        }
      ]
    },
    {
      "cell_type": "markdown",
      "source": [
        "### Questão 7: \n",
        "Uma loja de roupas deseja avaliar as vendas de uma determinada peça de roupa em um período de uma semana. Os dados coletados foram:\n",
        "\n",
        "[50, 20, 10, 30, 40, 25, 15]\n",
        "\n",
        "Construa um box plot dos dados e interprete suas características."
      ],
      "metadata": {
        "id": "13w16_hMjoB_"
      }
    },
    {
      "cell_type": "code",
      "source": [
        "precos = [50, 20, 10, 30, 40, 25, 15]\n",
        "\n",
        "plt.boxplot(precos)\n",
        "plt.show"
      ],
      "metadata": {
        "colab": {
          "base_uri": "https://localhost:8080/",
          "height": 447
        },
        "id": "4q9bPpCRjnTK",
        "outputId": "4778c60a-8d29-4050-8c05-0f9c72e35785"
      },
      "execution_count": 41,
      "outputs": [
        {
          "output_type": "execute_result",
          "data": {
            "text/plain": [
              "<function matplotlib.pyplot.show(close=None, block=None)>"
            ]
          },
          "metadata": {},
          "execution_count": 41
        },
        {
          "output_type": "display_data",
          "data": {
            "text/plain": [
              "<Figure size 640x480 with 1 Axes>"
            ],
            "image/png": "[encoded data removed]"
          },
          "metadata": {}
        }
      ]
    }
  ]
}